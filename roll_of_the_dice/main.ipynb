{
 "cells": [
  {
   "cell_type": "code",
   "execution_count": 1,
   "id": "c95970f7-90fa-4a36-baf5-720064cc2048",
   "metadata": {},
   "outputs": [],
   "source": [
    "from qiskit import *\n",
    "provider = IBMQ.load_account()"
   ]
  },
  {
   "cell_type": "code",
   "execution_count": 12,
   "id": "a4ba8cca-c9ab-495a-977a-ef4b786d4b21",
   "metadata": {},
   "outputs": [],
   "source": [
    "provider = IBMQ.get_provider(hub=\"ibm-q\")\n",
    "backend = provider.get_backend(\"ibmq_qasm_simulator\")"
   ]
  },
  {
   "cell_type": "code",
   "execution_count": 13,
   "id": "c5447f77-fa7b-42b2-8948-94972b5e3952",
   "metadata": {},
   "outputs": [],
   "source": [
    "REG_COUNT = 3\n",
    "\n",
    "qr = QuantumRegister(REG_COUNT)\n",
    "cr = ClassicalRegister(REG_COUNT)\n",
    "circuit = QuantumCircuit(qr, cr)\n",
    "\n",
    "for i in range(REG_COUNT):\n",
    "    circuit.reset(qr[i])\n",
    "    \n",
    "for i in range(REG_COUNT):\n",
    "    circuit.h(qr[i])\n",
    "    \n",
    "for i in range(REG_COUNT):\n",
    "    circuit.measure(qr[i], cr[i])"
   ]
  },
  {
   "cell_type": "code",
   "execution_count": 16,
   "id": "d1326ae1-d21a-4444-822f-56d3b9011b4b",
   "metadata": {},
   "outputs": [
    {
     "name": "stdout",
     "output_type": "stream",
     "text": [
      "{'011': 1}\n"
     ]
    }
   ],
   "source": [
    "transpiled = transpile(circuit, backend)\n",
    "job = backend.run(transpiled, shots=1)\n",
    "res = job.result()\n",
    "counts = res.get_counts()\n",
    "\n",
    "print(counts)"
   ]
  },
  {
   "cell_type": "code",
   "execution_count": null,
   "id": "02c11392-0c63-42d5-ad7c-bbdf1218ed03",
   "metadata": {},
   "outputs": [],
   "source": []
  }
 ],
 "metadata": {
  "kernelspec": {
   "display_name": "Python 3 (ipykernel)",
   "language": "python",
   "name": "python3"
  },
  "language_info": {
   "codemirror_mode": {
    "name": "ipython",
    "version": 3
   },
   "file_extension": ".py",
   "mimetype": "text/x-python",
   "name": "python",
   "nbconvert_exporter": "python",
   "pygments_lexer": "ipython3",
   "version": "3.8.13"
  },
  "widgets": {
   "application/vnd.jupyter.widget-state+json": {
    "state": {},
    "version_major": 2,
    "version_minor": 0
   }
  }
 },
 "nbformat": 4,
 "nbformat_minor": 5
}
